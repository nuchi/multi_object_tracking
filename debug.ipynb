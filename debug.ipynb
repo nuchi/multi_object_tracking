{
 "cells": [
  {
   "cell_type": "code",
   "execution_count": null,
   "metadata": {},
   "outputs": [],
   "source": [
    "import itertools\n",
    "import json\n",
    "import matplotlib.pyplot as plt\n",
    "from multi_object_tracking.visualize import plot_debug_data\n",
    "from multi_object_tracking.track import track\n",
    "from multi_object_tracking.preprocess import stream_video"
   ]
  },
  {
   "cell_type": "code",
   "execution_count": null,
   "metadata": {},
   "outputs": [],
   "source": [
    "FILENAME = '<your file name here>'  # replace this\n",
    "VIDEO_PATH = f'videos/{FILENAME}'\n",
    "DEBUG_PATH = f'output/{FILENAME}.json'"
   ]
  },
  {
   "cell_type": "code",
   "execution_count": null,
   "metadata": {},
   "outputs": [],
   "source": [
    "frames = list(itertools.islice(stream_video(VIDEO_PATH), 0, 10))\n",
    "with open(DEBUG_PATH) as f:\n",
    "    debug_data = json.load(f)"
   ]
  },
  {
   "cell_type": "code",
   "execution_count": null,
   "metadata": {},
   "outputs": [],
   "source": [
    "%matplotlib notebook\n",
    "img = plt.imshow(frames[0], cmap='gray', vmin=0, vmax=255)"
   ]
  },
  {
   "cell_type": "code",
   "execution_count": null,
   "metadata": {},
   "outputs": [],
   "source": [
    "n = 1\n",
    "img.set_data(frames[n])\n",
    "plot_debug_data(debug_data, n)"
   ]
  },
  {
   "cell_type": "code",
   "execution_count": null,
   "metadata": {},
   "outputs": [],
   "source": [
    "# pdf so that figures are saved as vectors rather than rasterized.\n",
    "# It might be helpful to zoom in on an area of interest first.\n",
    "OUT_FIG = f'frame_{n}.pdf'\n",
    "plt.savefig(OUT_FIG, bbox_inches='tight', pad_inches=0)"
   ]
  },
  {
   "cell_type": "code",
   "execution_count": null,
   "metadata": {},
   "outputs": [],
   "source": []
  }
 ],
 "metadata": {
  "kernelspec": {
   "display_name": "Python 3",
   "language": "python",
   "name": "python3"
  },
  "language_info": {
   "codemirror_mode": {
    "name": "ipython",
    "version": 3
   },
   "file_extension": ".py",
   "mimetype": "text/x-python",
   "name": "python",
   "nbconvert_exporter": "python",
   "pygments_lexer": "ipython3",
   "version": "3.8.5"
  }
 },
 "nbformat": 4,
 "nbformat_minor": 2
}
